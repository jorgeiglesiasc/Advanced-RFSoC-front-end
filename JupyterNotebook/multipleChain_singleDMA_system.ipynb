{
 "cells": [
  {
   "cell_type": "code",
   "execution_count": 1,
   "metadata": {},
   "outputs": [],
   "source": [
    "#----------------------------------------------------------------------------------\n",
    "#--\n",
    "#-- Company: CTTC\n",
    "#-- Author: Jorge Iglesias, 2024. jorgeiglesiascostas(at)gmail.com\n",
    "#--\n",
    "#-- File Name: multipleChain_singleDMA_system.ipybn\n",
    "#-- Target Devices: RFSoC4x2 and ZCU208\n",
    "#-- Description: Initialize and configure the overlay (ADC, FT and ChS) to implement\n",
    "#                a front-end which separately transfers four bands of the frequency \n",
    "#                spectrum to baseband which will then be sent to the next device via\n",
    "#                DMA through the \"dma2udp\" code.\n",
    "#                This project has been used to send four GNSS bands to a GNSS\n",
    "#                receiver that performs satellite navigation\n",
    "#--\n",
    "#----------------------------------------------------------------------------------\n",
    "#--\n",
    "#-- Advanced-RFSoC-front-end is an Advanced multi-band GNSS SDR front-end\n",
    "#                                  implementation in an RFSoC integrated circuit\n",
    "#-- This file is part of Advanced-RFSoC-front-end\n",
    "#--\n",
    "#-- Copyright (C) 2024 (see AUTHORS file for a list of contributors)\n",
    "#-- SPDX-License-Identifier: GPL-3.0-or-later\n",
    "#--\n",
    "#----------------------------------------------------------------------------------"
   ]
  },
  {
   "cell_type": "code",
   "execution_count": 2,
   "metadata": {},
   "outputs": [
    {
     "data": {
      "application/javascript": [
       "\n",
       "try {\n",
       "require(['notebook/js/codecell'], function(codecell) {\n",
       "  codecell.CodeCell.options_default.highlight_modes[\n",
       "      'magic_text/x-csrc'] = {'reg':[/^%%microblaze/]};\n",
       "  Jupyter.notebook.events.one('kernel_ready.Kernel', function(){\n",
       "      Jupyter.notebook.get_cells().map(function(cell){\n",
       "          if (cell.cell_type == 'code'){ cell.auto_highlight(); } }) ;\n",
       "  });\n",
       "});\n",
       "} catch (e) {};\n"
      ]
     },
     "metadata": {},
     "output_type": "display_data"
    },
    {
     "data": {
      "application/javascript": [
       "\n",
       "try {\n",
       "require(['notebook/js/codecell'], function(codecell) {\n",
       "  codecell.CodeCell.options_default.highlight_modes[\n",
       "      'magic_text/x-csrc'] = {'reg':[/^%%pybind11/]};\n",
       "  Jupyter.notebook.events.one('kernel_ready.Kernel', function(){\n",
       "      Jupyter.notebook.get_cells().map(function(cell){\n",
       "          if (cell.cell_type == 'code'){ cell.auto_highlight(); } }) ;\n",
       "  });\n",
       "});\n",
       "} catch (e) {};\n"
      ]
     },
     "metadata": {},
     "output_type": "display_data"
    }
   ],
   "source": [
    "import xrfdc\n",
    "from pynq.overlays.base import BaseOverlay\n",
    "import numpy as np\n",
    "\n",
    "base = BaseOverlay('base.bit') #Load the overlay"
   ]
  },
  {
   "cell_type": "code",
   "execution_count": 3,
   "metadata": {},
   "outputs": [],
   "source": [
    "#--- Overlay information ---\n",
    "#Check if the overlay has been loaded correctly\n",
    "\n",
    "base?"
   ]
  },
  {
   "cell_type": "code",
   "execution_count": 4,
   "metadata": {
    "scrolled": false
   },
   "outputs": [],
   "source": [
    "#--- Overlay initializations ---\n",
    "\n",
    "base.init_rf_clks() #Initialize the LMK and LMX clocks\n",
    "base.init_gpio_axi_ctrl() #Initialize the AXI GPIO IP cores"
   ]
  },
  {
   "cell_type": "code",
   "execution_count": 5,
   "metadata": {},
   "outputs": [
    {
     "name": "stdout",
     "output_type": "stream",
     "text": [
      "Sampling frequency after Tile decimation is: 450.0 [Msps]\n",
      "Required AXIS Tile clock is 56.25 [MHz]\n",
      "Current FabClk (AXIS Tile clock) output in Tile is set to 56.25 [MHz]\n"
     ]
    }
   ],
   "source": [
    "#--- Parameters ---\n",
    "\n",
    "ADC_sample_frequency = 3600e6 #3.6GHz\n",
    "RF_RX_frequency_hz=1575.42e6 #DDC mixer frequency\n",
    "\n",
    "number_samples = 8000\n",
    "\n",
    "decim_factor = 8 #DDC decimator factor\n",
    "FabWdValdWords = 8 #DDC parallel samples in AXIS bus\n",
    "decim_factor_fir = 100 #FIR decimator factor\n",
    "\n",
    "FabClkOutDivFactor=8\n",
    "match FabClkOutDivFactor:\n",
    "    case 1:\n",
    "         FabClkOutDiv=0x1\n",
    "    case 2:\n",
    "         FabClkOutDiv=0x2\n",
    "    case 4:\n",
    "         FabClkOutDiv=0x3\n",
    "    case 8:\n",
    "         FabClkOutDiv=0x4\n",
    "    case 16:\n",
    "         FabClkOutDiv=0x5\n",
    "    case _:\n",
    "        print(\"ERROR: Invalid FabClkOutDivFactor!\")\n",
    "        FabClkOutDiv=0\n",
    "\n",
    "outputDDC_sample_frequency = ADC_sample_frequency/decim_factor\n",
    "output_sample_frequency = outputDDC_sample_frequency/decim_factor_fir\n",
    "\n",
    "#Required AXIS Tile clock and Current FabClk have to have the same value\n",
    "print(f\"Sampling frequency after Tile decimation is: {str(outputDDC_sample_frequency/1e6)} [Msps]\")\n",
    "print(f\"Required AXIS Tile clock is {str((ADC_sample_frequency/(FabWdValdWords*decim_factor))/1e6)} [MHz]\")\n",
    "print(f\"Current FabClk (AXIS Tile clock) output in Tile is set to {str((ADC_sample_frequency/(FabClkOutDivFactor*8))/1e6)} [MHz]\")"
   ]
  },
  {
   "cell_type": "code",
   "execution_count": 6,
   "metadata": {},
   "outputs": [],
   "source": [
    "#--- ADC configurations ---\n",
    "#It is important to maintain the order in which the ADC is configured\n",
    "\n",
    "adc = base.radio.receiver.channel_20\n",
    "\n",
    "adc.adc_block.NyquistZone = 1\n",
    "adc.adc_block.DecimationFactor = decim_factor\n",
    "adc.adc_block.FabRdVldWords = FabWdValdWords\n",
    "\n",
    "adc.adc_tile.DynamicPLLConfig(1, 491.52, ADC_sample_frequency/1e6)\n",
    "\n",
    "adc.adc_block.MixerSettings = {\n",
    " 'CoarseMixFreq'  : xrfdc.COARSE_MIX_BYPASS,\n",
    "         'EventSource'    : xrfdc.EVNT_SRC_TILE,\n",
    "         'FineMixerScale' : xrfdc.MIXER_SCALE_1P0,\n",
    "         'Freq'           : -RF_RX_frequency_hz/1e6,\n",
    "         'MixerMode'      : xrfdc.MIXER_MODE_R2C,\n",
    "         'MixerType'      : xrfdc.MIXER_TYPE_FINE,\n",
    "         'PhaseOffset'    : 0.0\n",
    "     }\n",
    "adc.adc_block.UpdateEvent(xrfdc.EVENT_MIXER)\n",
    "adc.adc_tile.SetupFIFO(True)\n",
    "\n",
    "adc.adc_tile.FabClkOutDiv=FabClkOutDiv "
   ]
  },
  {
   "cell_type": "code",
   "execution_count": 7,
   "metadata": {},
   "outputs": [],
   "source": [
    "#--- Frequency Translator configurations ---\n",
    "\n",
    "floatToFixed = 2**(32-6) #ap_fixed<32,6>\n",
    "TWO_PI = 2 * np.pi\n",
    "\n",
    "freq_trans = []\n",
    "freq_trans.append(adc.freq_translator_0)\n",
    "freq_trans.append(adc.freq_translator_1)\n",
    "freq_trans.append(adc.freq_translator_2)\n",
    "freq_trans.append(adc.freq_translator_3)\n",
    "\n",
    "#Reset the FT IP core\n",
    "base.freqtransctrlin[0].off() #ap_start\n",
    "base.freqtransctrlin[1].off() #ap_continue\n",
    "base.freqtransctrlin[2].on()  #reset\n",
    "base.freqtransctrlin[2].off()\n",
    "\n",
    "#Each complex multiplier frequency to perform the second translation to baseband\n",
    "subBand_frequency_hz = []\n",
    "subBand_frequency_hz.append(0.5e6)\n",
    "subBand_frequency_hz.append(1.5e6)\n",
    "subBand_frequency_hz.append(2.5e6)\n",
    "subBand_frequency_hz.append(3.5e6)\n",
    "\n",
    "#Bypass mode\n",
    "freq_trans[0].register_map.bypass = 0\n",
    "freq_trans[1].register_map.bypass = 0\n",
    "freq_trans[2].register_map.bypass = 0\n",
    "freq_trans[3].register_map.bypass = 0\n",
    "\n",
    "#Load parameters to the FTs\n",
    "for n in range(0, len(freq_trans)):\n",
    "    phase_inc_single = TWO_PI * (subBand_frequency_hz[n]/output_sample_frequency)\n",
    "\n",
    "    for i in range(0, FabWdValdWords+1):\n",
    "        nco_phase_accum = (i * phase_inc_single)\n",
    "        if nco_phase_accum>TWO_PI:\n",
    "            while nco_phase_accum>(TWO_PI):\n",
    "                nco_phase_accum-=TWO_PI;\n",
    "        elif nco_phase_accum<(-TWO_PI):\n",
    "            while nco_phase_accum<(-TWO_PI):\n",
    "                nco_phase_accum+=TWO_PI;\n",
    "        nco_phase_accum_fixed = np.int32(np.round(nco_phase_accum * floatToFixed))\n",
    "\n",
    "        if (i <= 0): freq_trans[n].register_map.nco_phase_accum_1 = nco_phase_accum_fixed\n",
    "        elif (i == 1): freq_trans[n].register_map.nco_phase_accum_2 = nco_phase_accum_fixed\n",
    "        elif (i == 2): freq_trans[n].register_map.nco_phase_accum_3 = nco_phase_accum_fixed\n",
    "        elif (i == 3): freq_trans[n].register_map.nco_phase_accum_4 = nco_phase_accum_fixed\n",
    "        elif (i == 4): freq_trans[n].register_map.nco_phase_accum_5 = nco_phase_accum_fixed\n",
    "        elif (i == 5): freq_trans[n].register_map.nco_phase_accum_6 = nco_phase_accum_fixed\n",
    "        elif (i == 6): freq_trans[n].register_map.nco_phase_accum_7 = nco_phase_accum_fixed\n",
    "        elif (i == 7): freq_trans[n].register_map.nco_phase_accum_8 = nco_phase_accum_fixed\n",
    "        else: freq_trans[n].register_map.phase_inc_rad = nco_phase_accum_fixed\n",
    "\n",
    "base.freqtransctrlin[0].on() #ap_start\n",
    "base.freqtransctrlin[1].on() #ap_continue"
   ]
  },
  {
   "cell_type": "code",
   "execution_count": 8,
   "metadata": {},
   "outputs": [],
   "source": [
    "#--- Chain Selector configurations ---\n",
    "\n",
    "chain_sel_re = adc.chain_selector_0\n",
    "chain_sel_im = adc.chain_selector_1\n",
    "\n",
    "base.chainselctrlin[0].off() #ap_start\n",
    "base.chainselctrlin[1].off() #ap_continue\n",
    "\n",
    "#Chain on (True) or off (False)\n",
    "chain_sel_re.register_map.s0 = True\n",
    "chain_sel_im.register_map.s0 = True\n",
    "chain_sel_re.register_map.s1 = True\n",
    "chain_sel_im.register_map.s1 = True\n",
    "chain_sel_re.register_map.s2 = True\n",
    "chain_sel_im.register_map.s2 = True\n",
    "chain_sel_re.register_map.s3 = True\n",
    "chain_sel_im.register_map.s3 = True\n",
    "\n",
    "base.chainselctrlin[0].on() #ap_start\n",
    "base.chainselctrlin[1].on() #ap_continue"
   ]
  }
 ],
 "metadata": {
  "kernelspec": {
   "display_name": "Python 3 (ipykernel)",
   "language": "python",
   "name": "python3"
  },
  "language_info": {
   "codemirror_mode": {
    "name": "ipython",
    "version": 3
   },
   "file_extension": ".py",
   "mimetype": "text/x-python",
   "name": "python",
   "nbconvert_exporter": "python",
   "pygments_lexer": "ipython3",
   "version": "3.10.4"
  },
  "widgets": {
   "application/vnd.jupyter.widget-state+json": {
    "state": {},
    "version_major": 2,
    "version_minor": 0
   }
  }
 },
 "nbformat": 4,
 "nbformat_minor": 4
}
